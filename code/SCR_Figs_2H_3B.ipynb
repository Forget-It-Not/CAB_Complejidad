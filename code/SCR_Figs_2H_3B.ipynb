{
 "cells": [
  {
   "attachments": {},
   "cell_type": "markdown",
   "metadata": {},
   "source": [
    "# FIGS 2H & 3B\n",
    "\n",
    "*Marcos Martinez Jimenez*\n",
    "\n",
    "---\n",
    "\n",
    "Script used to obtain figures 2H and 3B from Networld's PNAS. Basic check that the model retains desirable properties after being modified.\n",
    "\n",
    "**Input**: processed networld simulation data"
   ]
  },
  {
   "attachments": {},
   "cell_type": "markdown",
   "metadata": {},
   "source": [
    "## Setup"
   ]
  },
  {
   "attachments": {},
   "cell_type": "markdown",
   "metadata": {},
   "source": [
    "***Module Import***"
   ]
  },
  {
   "cell_type": "code",
   "execution_count": 9,
   "metadata": {},
   "outputs": [],
   "source": [
    "import os\n",
    "import matplotlib.pyplot as plt\n",
    "\n",
    "from scipy.stats import entropy\n",
    "\n",
    "from matlab_utils import *"
   ]
  },
  {
   "attachments": {},
   "cell_type": "markdown",
   "metadata": {},
   "source": [
    "***Global Metadata***"
   ]
  },
  {
   "cell_type": "code",
   "execution_count": 3,
   "metadata": {},
   "outputs": [],
   "source": [
    "networks, measures = load_meta_networld()"
   ]
  },
  {
   "attachments": {},
   "cell_type": "markdown",
   "metadata": {},
   "source": [
    "***Data loading***"
   ]
  },
  {
   "cell_type": "code",
   "execution_count": 51,
   "metadata": {},
   "outputs": [],
   "source": [
    "# Path where all SRC files are included\n",
    "data_path = '../data/Networld_N40_TMax10000_SimplUnion/'\n",
    "\n",
    "nt_list = []\n",
    "for data_file in os.listdir(data_path):\n",
    "    info = data_file[:-4].split('_')\n",
    "    if info[0] != 'SRC':\n",
    "        continue\n",
    "    beta = info[2][4:]\n",
    "    rep = info[4][3:]\n",
    "    data_file = data_path + data_file\n",
    "    src = load_src_networld(data_file)\n",
    "    src['beta'] = float(beta)\n",
    "    src['rep'] = int(rep)\n",
    "    nt_list.append(src)\n"
   ]
  },
  {
   "attachments": {},
   "cell_type": "markdown",
   "metadata": {},
   "source": [
    "For this figures the abundance of networks for each $\\beta$ is enough"
   ]
  },
  {
   "cell_type": "code",
   "execution_count": 5,
   "metadata": {},
   "outputs": [
    {
     "data": {
      "text/html": [
       "<div>\n",
       "<style scoped>\n",
       "    .dataframe tbody tr th:only-of-type {\n",
       "        vertical-align: middle;\n",
       "    }\n",
       "\n",
       "    .dataframe tbody tr th {\n",
       "        vertical-align: top;\n",
       "    }\n",
       "\n",
       "    .dataframe thead th {\n",
       "        text-align: right;\n",
       "    }\n",
       "</style>\n",
       "<table border=\"1\" class=\"dataframe\">\n",
       "  <thead>\n",
       "    <tr style=\"text-align: right;\">\n",
       "      <th></th>\n",
       "      <th>beta</th>\n",
       "      <th>NRed</th>\n",
       "      <th>NRep</th>\n",
       "    </tr>\n",
       "  </thead>\n",
       "  <tbody>\n",
       "    <tr>\n",
       "      <th>0</th>\n",
       "      <td>0.0</td>\n",
       "      <td>0.0</td>\n",
       "      <td>1.000000</td>\n",
       "    </tr>\n",
       "    <tr>\n",
       "      <th>1</th>\n",
       "      <td>0.5</td>\n",
       "      <td>0.0</td>\n",
       "      <td>0.794160</td>\n",
       "    </tr>\n",
       "    <tr>\n",
       "      <th>2</th>\n",
       "      <td>0.5</td>\n",
       "      <td>1.0</td>\n",
       "      <td>0.183416</td>\n",
       "    </tr>\n",
       "    <tr>\n",
       "      <th>3</th>\n",
       "      <td>0.5</td>\n",
       "      <td>2.0</td>\n",
       "      <td>0.018830</td>\n",
       "    </tr>\n",
       "    <tr>\n",
       "      <th>4</th>\n",
       "      <td>0.5</td>\n",
       "      <td>4.0</td>\n",
       "      <td>0.000255</td>\n",
       "    </tr>\n",
       "  </tbody>\n",
       "</table>\n",
       "</div>"
      ],
      "text/plain": [
       "   beta  NRed      NRep\n",
       "0   0.0   0.0  1.000000\n",
       "1   0.5   0.0  0.794160\n",
       "2   0.5   1.0  0.183416\n",
       "3   0.5   2.0  0.018830\n",
       "4   0.5   4.0  0.000255"
      ]
     },
     "execution_count": 5,
     "metadata": {},
     "output_type": "execute_result"
    }
   ],
   "source": [
    "exp_data = pd.concat(nt_list, axis=0)\n",
    "exp_data = exp_data.sort_values(by=['beta','rep','NRed'])\n",
    "exp_data = exp_data.groupby(['beta','NRed'])['NRep'].sum().reset_index()\n",
    "exp_data['NRep'] = exp_data['NRep'] / exp_data.groupby('beta')['NRep'].transform(sum)\n",
    "exp_data.head()"
   ]
  },
  {
   "attachments": {},
   "cell_type": "markdown",
   "metadata": {},
   "source": [
    "## Compute metrics\n",
    "\n",
    "***# Configurations***"
   ]
  },
  {
   "cell_type": "code",
   "execution_count": 6,
   "metadata": {},
   "outputs": [
    {
     "data": {
      "text/html": [
       "<div>\n",
       "<style scoped>\n",
       "    .dataframe tbody tr th:only-of-type {\n",
       "        vertical-align: middle;\n",
       "    }\n",
       "\n",
       "    .dataframe tbody tr th {\n",
       "        vertical-align: top;\n",
       "    }\n",
       "\n",
       "    .dataframe thead th {\n",
       "        text-align: right;\n",
       "    }\n",
       "</style>\n",
       "<table border=\"1\" class=\"dataframe\">\n",
       "  <thead>\n",
       "    <tr style=\"text-align: right;\">\n",
       "      <th></th>\n",
       "      <th>beta</th>\n",
       "      <th>NRed</th>\n",
       "    </tr>\n",
       "  </thead>\n",
       "  <tbody>\n",
       "    <tr>\n",
       "      <th>0</th>\n",
       "      <td>0.0</td>\n",
       "      <td>1</td>\n",
       "    </tr>\n",
       "    <tr>\n",
       "      <th>1</th>\n",
       "      <td>0.5</td>\n",
       "      <td>20</td>\n",
       "    </tr>\n",
       "    <tr>\n",
       "      <th>2</th>\n",
       "      <td>1.0</td>\n",
       "      <td>48</td>\n",
       "    </tr>\n",
       "    <tr>\n",
       "      <th>3</th>\n",
       "      <td>1.5</td>\n",
       "      <td>83</td>\n",
       "    </tr>\n",
       "    <tr>\n",
       "      <th>4</th>\n",
       "      <td>2.0</td>\n",
       "      <td>169</td>\n",
       "    </tr>\n",
       "  </tbody>\n",
       "</table>\n",
       "</div>"
      ],
      "text/plain": [
       "   beta  NRed\n",
       "0   0.0     1\n",
       "1   0.5    20\n",
       "2   1.0    48\n",
       "3   1.5    83\n",
       "4   2.0   169"
      ]
     },
     "execution_count": 6,
     "metadata": {},
     "output_type": "execute_result"
    }
   ],
   "source": [
    "# Number of different network identifiers by beta\n",
    "num_configs = exp_data.groupby('beta')['NRed'].nunique().reset_index()\n",
    "num_configs.head()"
   ]
  },
  {
   "attachments": {},
   "cell_type": "markdown",
   "metadata": {},
   "source": [
    "***Normalized H***"
   ]
  },
  {
   "cell_type": "code",
   "execution_count": 7,
   "metadata": {},
   "outputs": [
    {
     "data": {
      "text/html": [
       "<div>\n",
       "<style scoped>\n",
       "    .dataframe tbody tr th:only-of-type {\n",
       "        vertical-align: middle;\n",
       "    }\n",
       "\n",
       "    .dataframe tbody tr th {\n",
       "        vertical-align: top;\n",
       "    }\n",
       "\n",
       "    .dataframe thead th {\n",
       "        text-align: right;\n",
       "    }\n",
       "</style>\n",
       "<table border=\"1\" class=\"dataframe\">\n",
       "  <thead>\n",
       "    <tr style=\"text-align: right;\">\n",
       "      <th></th>\n",
       "      <th>beta</th>\n",
       "      <th>NRep</th>\n",
       "    </tr>\n",
       "  </thead>\n",
       "  <tbody>\n",
       "    <tr>\n",
       "      <th>0</th>\n",
       "      <td>0.0</td>\n",
       "      <td>0.000000</td>\n",
       "    </tr>\n",
       "    <tr>\n",
       "      <th>1</th>\n",
       "      <td>0.5</td>\n",
       "      <td>0.137290</td>\n",
       "    </tr>\n",
       "    <tr>\n",
       "      <th>2</th>\n",
       "      <td>1.0</td>\n",
       "      <td>0.167215</td>\n",
       "    </tr>\n",
       "    <tr>\n",
       "      <th>3</th>\n",
       "      <td>1.5</td>\n",
       "      <td>0.188051</td>\n",
       "    </tr>\n",
       "    <tr>\n",
       "      <th>4</th>\n",
       "      <td>2.0</td>\n",
       "      <td>0.190340</td>\n",
       "    </tr>\n",
       "  </tbody>\n",
       "</table>\n",
       "</div>"
      ],
      "text/plain": [
       "   beta      NRep\n",
       "0   0.0  0.000000\n",
       "1   0.5  0.137290\n",
       "2   1.0  0.167215\n",
       "3   1.5  0.188051\n",
       "4   2.0  0.190340"
      ]
     },
     "execution_count": 7,
     "metadata": {},
     "output_type": "execute_result"
    }
   ],
   "source": [
    "normH = exp_data.groupby('beta')['NRep'].aggregate(entropy).reset_index()\n",
    "normH['NRep'] = normH['NRep'] / np.log2(num_configs['NRed'])\n",
    "# For beta=0 only one network -> NA value, but should be a 0\n",
    "normH = normH.fillna(0)\n",
    "normH.head()"
   ]
  },
  {
   "attachments": {},
   "cell_type": "markdown",
   "metadata": {},
   "source": [
    "## Transition Limits\n",
    "\n",
    "Inspect the graphs to identify prospective transition bounds"
   ]
  },
  {
   "cell_type": "code",
   "execution_count": 8,
   "metadata": {},
   "outputs": [
    {
     "data": {
      "image/png": "[encoded data removed]",
      "text/plain": [
       "<Figure size 600x300 with 2 Axes>"
      ]
     },
     "metadata": {},
     "output_type": "display_data"
    }
   ],
   "source": [
    "fig, [ax1, ax2] = plt.subplots(1,2, figsize=(6,3))\n",
    "\n",
    "ax1.plot(num_configs['beta'], num_configs['NRed'], 'o')\n",
    "ax1.set_title('2H')\n",
    "ax1.set_xlabel(r'$\\beta$')\n",
    "ax1.set_ylabel('# Configurations')\n",
    "ax1.set_yscale('log')\n",
    "ax1.set_xlim(0,10)\n",
    "ax1.set_xticks(np.arange(0,10.1,0.5), minor=True)\n",
    "ax1.grid(which='both', axis='x')\n",
    "ax1.grid(which='major', axis='y')\n",
    "\n",
    "ax2.plot(normH['beta'], normH['NRep'], 'o')\n",
    "ax2.set_title('3B')\n",
    "ax2.set_xlabel(r'$\\beta$')\n",
    "ax2.set_ylabel('Normalized H')\n",
    "ax2.set_xlim(0,10)\n",
    "ax2.set_xticks(np.arange(0,10.1,0.5), minor=True)\n",
    "ax2.grid(which='both', axis='x')\n",
    "ax2.grid(which='major', axis='y')\n",
    "\n",
    "fig.tight_layout()"
   ]
  },
  {
   "cell_type": "code",
   "execution_count": 10,
   "metadata": {},
   "outputs": [
    {
     "data": {
      "image/png": "[encoded data removed]",
      "text/plain": [
       "<Figure size 600x300 with 2 Axes>"
      ]
     },
     "metadata": {},
     "output_type": "display_data"
    }
   ],
   "source": [
    "fig, [ax1, ax2] = plt.subplots(1,2, figsize=(6,3))\n",
    "\n",
    "ax1.plot(num_configs['beta'], num_configs['NRed'], 'o')\n",
    "ax1.set_title('2H')\n",
    "ax1.set_xlabel(r'$\\beta$')\n",
    "ax1.set_ylabel('# Configurations')\n",
    "ax1.set_yscale('log')\n",
    "ax1.set_xlim(0,3.5)\n",
    "ax1.set_xticks(np.arange(0,3.6,0.5), minor=True)\n",
    "ax1.grid(which='both', axis='x')\n",
    "ax1.grid(which='major', axis='y')\n",
    "\n",
    "ax2.plot(normH['beta'], normH['NRep'], 'o')\n",
    "ax2.set_title('3B')\n",
    "ax2.set_xlabel(r'$\\beta$')\n",
    "ax2.set_ylabel('Normalized H')\n",
    "ax2.set_xlim(0,3.5)\n",
    "ax2.set_xticks(np.arange(0,3.6,0.5), minor=True)\n",
    "ax2.grid(which='both', axis='x')\n",
    "ax2.grid(which='major', axis='y')\n",
    "\n",
    "fig.tight_layout()"
   ]
  },
  {
   "attachments": {},
   "cell_type": "markdown",
   "metadata": {},
   "source": [
    "***Transition Bounds***"
   ]
  },
  {
   "cell_type": "code",
   "execution_count": 8,
   "metadata": {},
   "outputs": [],
   "source": [
    "# 1st value is critic beta and 2nd is the change of behaviour \n",
    "# caused by network colapse and node limitation\n",
    "beta_lims = (1.6,2.5)"
   ]
  },
  {
   "cell_type": "code",
   "execution_count": 9,
   "metadata": {},
   "outputs": [],
   "source": [
    "pre_idx = num_configs['beta'] < beta_lims[0]\n",
    "pos_idx = (num_configs['beta'] >= beta_lims[0]) \\\n",
    "    & (num_configs['beta'] < beta_lims[1])\n",
    "\n",
    "p_nc_pre = np.polyfit(num_configs.loc[pre_idx,'beta'], \n",
    "                      np.log(num_configs.loc[pre_idx, 'NRed']), 1)\n",
    "p_nc_pos = np.polyfit(num_configs.loc[pos_idx,'beta'], \n",
    "                      np.log(num_configs.loc[pos_idx, 'NRed']), 1)\n",
    "p_nH_pre = np.polyfit(normH.loc[pre_idx,'beta'], \n",
    "                      normH.loc[pre_idx, 'NRep'], 1)\n",
    "p_nH_pos = np.polyfit(normH.loc[pos_idx,'beta'], \n",
    "                      normH.loc[pos_idx, 'NRep'], 1)"
   ]
  },
  {
   "cell_type": "code",
   "execution_count": 10,
   "metadata": {},
   "outputs": [],
   "source": [
    "pre_beta_lr = np.array([0.01, beta_lims[0]+0.2])\n",
    "pos_beta_lr = np.array([beta_lims[0]-0.2, beta_lims[1]+0.2])\n",
    "\n",
    "pre_nc_lr = np.exp(pre_beta_lr * p_nc_pre[0] + p_nc_pre[1])\n",
    "pos_nc_lr = np.exp(pos_beta_lr * p_nc_pos[0] + p_nc_pos[1])\n",
    "\n",
    "pre_nH_lr = pre_beta_lr * p_nH_pre[0] + p_nH_pre[1]\n",
    "pos_nH_lr = pos_beta_lr * p_nH_pos[0] + p_nH_pos[1]\n",
    "\n",
    "nc_lr_intersect = (p_nc_pre[1] - p_nc_pos[1]) / (p_nc_pos[0] - p_nc_pre[0])\n",
    "nH_lr_intersect = (p_nH_pre[1] - p_nH_pos[1]) / (p_nH_pos[0] - p_nH_pre[0])\n"
   ]
  },
  {
   "cell_type": "code",
   "execution_count": 16,
   "metadata": {},
   "outputs": [
    {
     "data": {
      "image/png": "[encoded data removed]",
      "text/plain": [
       "<Figure size 600x300 with 2 Axes>"
      ]
     },
     "metadata": {},
     "output_type": "display_data"
    }
   ],
   "source": [
    "fig, [ax1, ax2] = plt.subplots(1,2, figsize=(6,3))\n",
    "\n",
    "ax1.plot(num_configs['beta'], num_configs['NRed'], 'o')\n",
    "ax1.plot(pre_beta_lr, pre_nc_lr, '-', color='black')\n",
    "ax1.plot(pos_beta_lr, pos_nc_lr, '-', color='black')\n",
    "ax1.annotate(r'$\\beta_{crit}$', xy=(nc_lr_intersect, 1), \n",
    "             xytext=(nc_lr_intersect, 150),\n",
    "             horizontalalignment='center',\n",
    "             color='red',\n",
    "             arrowprops=dict(color='red', arrowstyle='->', lw=1))\n",
    "ax1.set_title('2H')\n",
    "ax1.set_xlabel(r'$\\beta$')\n",
    "ax1.set_ylabel('# Configurations')\n",
    "ax1.set_yscale('log')\n",
    "ax1.set_xlim(0,2.6)\n",
    "ax1.set_xticks(np.arange(0,2.7,0.5), minor=True)\n",
    "ax1.grid(which='both', axis='x')\n",
    "ax1.grid(which='major', axis='y')\n",
    "\n",
    "ax2.plot(normH['beta'], normH['NRep'], 'o')\n",
    "ax2.plot(pre_beta_lr, pre_nH_lr, '-', color='black')\n",
    "ax2.plot(pos_beta_lr, pos_nH_lr, '-', color='black')\n",
    "ax2.annotate(r'$\\beta_{crit}$', xy=(nH_lr_intersect, 0), \n",
    "             xytext=(nH_lr_intersect, 0.2),\n",
    "             horizontalalignment='center',\n",
    "             color='red',\n",
    "             arrowprops=dict(color='red', arrowstyle='->', lw=1))\n",
    "ax2.set_title('3B')\n",
    "ax2.set_xlabel(r'$\\beta$')\n",
    "ax2.set_ylabel('Normalized H')\n",
    "ax2.set_xlim(0,2.6)\n",
    "ax2.set_ylim(0,0.25)\n",
    "ax2.set_xticks(np.arange(0,2.7,0.5), minor=True)\n",
    "ax2.grid(which='both', axis='x')\n",
    "ax2.grid(which='major', axis='y')\n",
    "\n",
    "fig.tight_layout()"
   ]
  },
  {
   "cell_type": "code",
   "execution_count": 52,
   "metadata": {},
   "outputs": [
    {
     "data": {
      "text/html": [
       "<div>\n",
       "<style scoped>\n",
       "    .dataframe tbody tr th:only-of-type {\n",
       "        vertical-align: middle;\n",
       "    }\n",
       "\n",
       "    .dataframe tbody tr th {\n",
       "        vertical-align: top;\n",
       "    }\n",
       "\n",
       "    .dataframe thead th {\n",
       "        text-align: right;\n",
       "    }\n",
       "</style>\n",
       "<table border=\"1\" class=\"dataframe\">\n",
       "  <thead>\n",
       "    <tr style=\"text-align: right;\">\n",
       "      <th></th>\n",
       "      <th>beta</th>\n",
       "      <th>NRep</th>\n",
       "    </tr>\n",
       "  </thead>\n",
       "  <tbody>\n",
       "    <tr>\n",
       "      <th>0</th>\n",
       "      <td>0.0</td>\n",
       "      <td>40.000000</td>\n",
       "    </tr>\n",
       "    <tr>\n",
       "      <th>1</th>\n",
       "      <td>0.1</td>\n",
       "      <td>39.884322</td>\n",
       "    </tr>\n",
       "    <tr>\n",
       "      <th>2</th>\n",
       "      <td>0.2</td>\n",
       "      <td>39.736926</td>\n",
       "    </tr>\n",
       "    <tr>\n",
       "      <th>3</th>\n",
       "      <td>0.3</td>\n",
       "      <td>39.568138</td>\n",
       "    </tr>\n",
       "    <tr>\n",
       "      <th>4</th>\n",
       "      <td>0.4</td>\n",
       "      <td>39.362214</td>\n",
       "    </tr>\n",
       "    <tr>\n",
       "      <th>5</th>\n",
       "      <td>0.5</td>\n",
       "      <td>39.106284</td>\n",
       "    </tr>\n",
       "    <tr>\n",
       "      <th>6</th>\n",
       "      <td>0.6</td>\n",
       "      <td>38.791666</td>\n",
       "    </tr>\n",
       "    <tr>\n",
       "      <th>7</th>\n",
       "      <td>0.7</td>\n",
       "      <td>38.421608</td>\n",
       "    </tr>\n",
       "    <tr>\n",
       "      <th>8</th>\n",
       "      <td>0.8</td>\n",
       "      <td>37.969178</td>\n",
       "    </tr>\n",
       "    <tr>\n",
       "      <th>9</th>\n",
       "      <td>0.9</td>\n",
       "      <td>37.459184</td>\n",
       "    </tr>\n",
       "    <tr>\n",
       "      <th>10</th>\n",
       "      <td>1.0</td>\n",
       "      <td>36.850470</td>\n",
       "    </tr>\n",
       "    <tr>\n",
       "      <th>11</th>\n",
       "      <td>1.1</td>\n",
       "      <td>36.104175</td>\n",
       "    </tr>\n",
       "    <tr>\n",
       "      <th>12</th>\n",
       "      <td>1.2</td>\n",
       "      <td>35.289931</td>\n",
       "    </tr>\n",
       "    <tr>\n",
       "      <th>13</th>\n",
       "      <td>1.3</td>\n",
       "      <td>34.262729</td>\n",
       "    </tr>\n",
       "    <tr>\n",
       "      <th>14</th>\n",
       "      <td>1.4</td>\n",
       "      <td>33.185431</td>\n",
       "    </tr>\n",
       "    <tr>\n",
       "      <th>15</th>\n",
       "      <td>1.5</td>\n",
       "      <td>31.884457</td>\n",
       "    </tr>\n",
       "    <tr>\n",
       "      <th>16</th>\n",
       "      <td>1.6</td>\n",
       "      <td>30.494816</td>\n",
       "    </tr>\n",
       "    <tr>\n",
       "      <th>17</th>\n",
       "      <td>1.7</td>\n",
       "      <td>29.029092</td>\n",
       "    </tr>\n",
       "    <tr>\n",
       "      <th>18</th>\n",
       "      <td>1.8</td>\n",
       "      <td>27.329597</td>\n",
       "    </tr>\n",
       "    <tr>\n",
       "      <th>19</th>\n",
       "      <td>1.9</td>\n",
       "      <td>25.720903</td>\n",
       "    </tr>\n",
       "  </tbody>\n",
       "</table>\n",
       "</div>"
      ],
      "text/plain": [
       "    beta       NRep\n",
       "0    0.0  40.000000\n",
       "1    0.1  39.884322\n",
       "2    0.2  39.736926\n",
       "3    0.3  39.568138\n",
       "4    0.4  39.362214\n",
       "5    0.5  39.106284\n",
       "6    0.6  38.791666\n",
       "7    0.7  38.421608\n",
       "8    0.8  37.969178\n",
       "9    0.9  37.459184\n",
       "10   1.0  36.850470\n",
       "11   1.1  36.104175\n",
       "12   1.2  35.289931\n",
       "13   1.3  34.262729\n",
       "14   1.4  33.185431\n",
       "15   1.5  31.884457\n",
       "16   1.6  30.494816\n",
       "17   1.7  29.029092\n",
       "18   1.8  27.329597\n",
       "19   1.9  25.720903"
      ]
     },
     "execution_count": 52,
     "metadata": {},
     "output_type": "execute_result"
    }
   ],
   "source": [
    "tmp_data = pd.concat(nt_list, axis=0)\n",
    "tmp_data = tmp_data.sort_values(by=['beta','rep','NRed'])\n",
    "tmp_data = tmp_data.groupby(['beta','rep','t'])['NRep'].sum().reset_index()\n",
    "tmp_data = tmp_data.groupby(['beta'])['NRep'].mean().reset_index()\n",
    "tmp_data.head(20)"
   ]
  },
  {
   "cell_type": "code",
   "execution_count": 56,
   "metadata": {},
   "outputs": [
    {
     "data": {
      "text/plain": [
       "<Figure size 600x400 with 0 Axes>"
      ]
     },
     "metadata": {},
     "output_type": "display_data"
    },
    {
     "data": {
      "image/png": "[encoded data removed]",
      "text/plain": [
       "<Figure size 640x480 with 1 Axes>"
      ]
     },
     "metadata": {},
     "output_type": "display_data"
    }
   ],
   "source": [
    "plt.figure(figsize=(6,4))\n",
    "tmp_data.plot(x='beta',y='NRep', style='-o',legend=False)\n",
    "plt.xlabel(r'$\\beta$')\n",
    "plt.ylabel('Número Medio Redes')\n",
    "plt.title('Union Simplificada')\n",
    "plt.xticks(np.arange(0,3.1,0.2))\n",
    "plt.grid(which='both')\n"
   ]
  }
 ],
 "metadata": {
  "kernelspec": {
   "display_name": "Python 3",
   "language": "python",
   "name": "python3"
  },
  "language_info": {
   "codemirror_mode": {
    "name": "ipython",
    "version": 3
   },
   "file_extension": ".py",
   "mimetype": "text/x-python",
   "name": "python",
   "nbconvert_exporter": "python",
   "pygments_lexer": "ipython3",
   "version": "3.8.10"
  },
  "orig_nbformat": 4
 },
 "nbformat": 4,
 "nbformat_minor": 2
}
