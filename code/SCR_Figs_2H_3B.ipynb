{
 "cells": [
  {
   "attachments": {},
   "cell_type": "markdown",
   "metadata": {},
   "source": [
    "# FIGS 2H & 3B\n",
    "\n",
    "*Marcos Martinez Jimenez*\n",
    "\n",
    "---\n",
    "\n",
    "Script used to obtain figures 2H and 3B from Networld's PNAS. Basic check that the model retains desirable properties after being modified.\n",
    "\n",
    "**Input**: processed networld simulation data"
   ]
  },
  {
   "attachments": {},
   "cell_type": "markdown",
   "metadata": {},
   "source": [
    "## Setup"
   ]
  },
  {
   "attachments": {},
   "cell_type": "markdown",
   "metadata": {},
   "source": [
    "***Module Import***"
   ]
  },
  {
   "cell_type": "code",
   "execution_count": 1,
   "metadata": {},
   "outputs": [],
   "source": [
    "import os\n",
    "import matplotlib.pyplot as plt\n",
    "\n",
    "from scipy.stats import entropy\n",
    "\n",
    "from matlab_utils import *"
   ]
  },
  {
   "attachments": {},
   "cell_type": "markdown",
   "metadata": {},
   "source": [
    "***Global Metadata***"
   ]
  },
  {
   "cell_type": "code",
   "execution_count": 2,
   "metadata": {},
   "outputs": [],
   "source": [
    "networks, measures = load_meta_networld()"
   ]
  },
  {
   "attachments": {},
   "cell_type": "markdown",
   "metadata": {},
   "source": [
    "***Data loading***"
   ]
  },
  {
   "cell_type": "code",
   "execution_count": 32,
   "metadata": {},
   "outputs": [],
   "source": [
    "# Path where all SRC files are included\n",
    "data_path = '../data/Networld_N40_TMax5000_SimplUnion_Kinetics_2/'\n",
    "\n",
    "nt_list = []\n",
    "for data_file in os.listdir(data_path):\n",
    "    info = data_file[:-4].split('_')\n",
    "    if info[0] != 'SRC':\n",
    "        continue\n",
    "    beta = info[2][4:]\n",
    "    rep = info[4][3:]\n",
    "    data_file = data_path + data_file\n",
    "    src = load_src_networld(data_file)\n",
    "    src['beta'] = float(beta)\n",
    "    src['rep'] = int(rep)\n",
    "    nt_list.append(src)\n"
   ]
  },
  {
   "attachments": {},
   "cell_type": "markdown",
   "metadata": {},
   "source": [
    "For this figures the abundance of networks for each $\\beta$ is enough"
   ]
  },
  {
   "cell_type": "code",
   "execution_count": 33,
   "metadata": {},
   "outputs": [
    {
     "data": {
      "text/html": [
       "<div>\n",
       "<style scoped>\n",
       "    .dataframe tbody tr th:only-of-type {\n",
       "        vertical-align: middle;\n",
       "    }\n",
       "\n",
       "    .dataframe tbody tr th {\n",
       "        vertical-align: top;\n",
       "    }\n",
       "\n",
       "    .dataframe thead th {\n",
       "        text-align: right;\n",
       "    }\n",
       "</style>\n",
       "<table border=\"1\" class=\"dataframe\">\n",
       "  <thead>\n",
       "    <tr style=\"text-align: right;\">\n",
       "      <th></th>\n",
       "      <th>beta</th>\n",
       "      <th>NRed</th>\n",
       "      <th>NRep</th>\n",
       "    </tr>\n",
       "  </thead>\n",
       "  <tbody>\n",
       "    <tr>\n",
       "      <th>0</th>\n",
       "      <td>0.00</td>\n",
       "      <td>0</td>\n",
       "      <td>1.000000</td>\n",
       "    </tr>\n",
       "    <tr>\n",
       "      <th>1</th>\n",
       "      <td>0.05</td>\n",
       "      <td>0</td>\n",
       "      <td>0.976587</td>\n",
       "    </tr>\n",
       "    <tr>\n",
       "      <th>2</th>\n",
       "      <td>0.05</td>\n",
       "      <td>1</td>\n",
       "      <td>0.023148</td>\n",
       "    </tr>\n",
       "    <tr>\n",
       "      <th>3</th>\n",
       "      <td>0.05</td>\n",
       "      <td>2</td>\n",
       "      <td>0.000255</td>\n",
       "    </tr>\n",
       "    <tr>\n",
       "      <th>4</th>\n",
       "      <td>0.05</td>\n",
       "      <td>5</td>\n",
       "      <td>0.000004</td>\n",
       "    </tr>\n",
       "  </tbody>\n",
       "</table>\n",
       "</div>"
      ],
      "text/plain": [
       "   beta  NRed      NRep\n",
       "0  0.00     0  1.000000\n",
       "1  0.05     0  0.976587\n",
       "2  0.05     1  0.023148\n",
       "3  0.05     2  0.000255\n",
       "4  0.05     5  0.000004"
      ]
     },
     "execution_count": 33,
     "metadata": {},
     "output_type": "execute_result"
    }
   ],
   "source": [
    "exp_data = pd.concat(nt_list, axis=0)\n",
    "exp_data = exp_data.sort_values(by=['beta','rep','NRed'])\n",
    "exp_data = exp_data.groupby(['beta','NRed'])['NRep'].sum().reset_index()\n",
    "exp_data['NRep'] = exp_data['NRep'] / exp_data.groupby('beta')['NRep'].transform(sum)\n",
    "exp_data.head()"
   ]
  },
  {
   "attachments": {},
   "cell_type": "markdown",
   "metadata": {},
   "source": [
    "## Compute metrics\n",
    "\n",
    "***# Configurations***"
   ]
  },
  {
   "cell_type": "code",
   "execution_count": 34,
   "metadata": {},
   "outputs": [
    {
     "data": {
      "text/html": [
       "<div>\n",
       "<style scoped>\n",
       "    .dataframe tbody tr th:only-of-type {\n",
       "        vertical-align: middle;\n",
       "    }\n",
       "\n",
       "    .dataframe tbody tr th {\n",
       "        vertical-align: top;\n",
       "    }\n",
       "\n",
       "    .dataframe thead th {\n",
       "        text-align: right;\n",
       "    }\n",
       "</style>\n",
       "<table border=\"1\" class=\"dataframe\">\n",
       "  <thead>\n",
       "    <tr style=\"text-align: right;\">\n",
       "      <th></th>\n",
       "      <th>beta</th>\n",
       "      <th>NRed</th>\n",
       "    </tr>\n",
       "  </thead>\n",
       "  <tbody>\n",
       "    <tr>\n",
       "      <th>0</th>\n",
       "      <td>0.00</td>\n",
       "      <td>1</td>\n",
       "    </tr>\n",
       "    <tr>\n",
       "      <th>1</th>\n",
       "      <td>0.05</td>\n",
       "      <td>5</td>\n",
       "    </tr>\n",
       "    <tr>\n",
       "      <th>2</th>\n",
       "      <td>0.10</td>\n",
       "      <td>6</td>\n",
       "    </tr>\n",
       "    <tr>\n",
       "      <th>3</th>\n",
       "      <td>0.15</td>\n",
       "      <td>7</td>\n",
       "    </tr>\n",
       "    <tr>\n",
       "      <th>4</th>\n",
       "      <td>0.20</td>\n",
       "      <td>7</td>\n",
       "    </tr>\n",
       "  </tbody>\n",
       "</table>\n",
       "</div>"
      ],
      "text/plain": [
       "   beta  NRed\n",
       "0  0.00     1\n",
       "1  0.05     5\n",
       "2  0.10     6\n",
       "3  0.15     7\n",
       "4  0.20     7"
      ]
     },
     "execution_count": 34,
     "metadata": {},
     "output_type": "execute_result"
    }
   ],
   "source": [
    "# Number of different network identifiers by beta\n",
    "num_configs = exp_data.groupby('beta')['NRed'].nunique().reset_index()\n",
    "num_configs.head()"
   ]
  },
  {
   "attachments": {},
   "cell_type": "markdown",
   "metadata": {},
   "source": [
    "***Normalized H***"
   ]
  },
  {
   "cell_type": "code",
   "execution_count": 35,
   "metadata": {},
   "outputs": [
    {
     "data": {
      "text/html": [
       "<div>\n",
       "<style scoped>\n",
       "    .dataframe tbody tr th:only-of-type {\n",
       "        vertical-align: middle;\n",
       "    }\n",
       "\n",
       "    .dataframe tbody tr th {\n",
       "        vertical-align: top;\n",
       "    }\n",
       "\n",
       "    .dataframe thead th {\n",
       "        text-align: right;\n",
       "    }\n",
       "</style>\n",
       "<table border=\"1\" class=\"dataframe\">\n",
       "  <thead>\n",
       "    <tr style=\"text-align: right;\">\n",
       "      <th></th>\n",
       "      <th>beta</th>\n",
       "      <th>NRep</th>\n",
       "    </tr>\n",
       "  </thead>\n",
       "  <tbody>\n",
       "    <tr>\n",
       "      <th>0</th>\n",
       "      <td>0.00</td>\n",
       "      <td>0.000000</td>\n",
       "    </tr>\n",
       "    <tr>\n",
       "      <th>1</th>\n",
       "      <td>0.05</td>\n",
       "      <td>0.048469</td>\n",
       "    </tr>\n",
       "    <tr>\n",
       "      <th>2</th>\n",
       "      <td>0.10</td>\n",
       "      <td>0.074571</td>\n",
       "    </tr>\n",
       "    <tr>\n",
       "      <th>3</th>\n",
       "      <td>0.15</td>\n",
       "      <td>0.092029</td>\n",
       "    </tr>\n",
       "    <tr>\n",
       "      <th>4</th>\n",
       "      <td>0.20</td>\n",
       "      <td>0.112275</td>\n",
       "    </tr>\n",
       "  </tbody>\n",
       "</table>\n",
       "</div>"
      ],
      "text/plain": [
       "   beta      NRep\n",
       "0  0.00  0.000000\n",
       "1  0.05  0.048469\n",
       "2  0.10  0.074571\n",
       "3  0.15  0.092029\n",
       "4  0.20  0.112275"
      ]
     },
     "execution_count": 35,
     "metadata": {},
     "output_type": "execute_result"
    }
   ],
   "source": [
    "normH = exp_data.groupby('beta')['NRep'].aggregate(entropy).reset_index()\n",
    "normH['NRep'] = normH['NRep'] / np.log2(num_configs['NRed'])\n",
    "# For beta=0 only one network -> NA value, but should be a 0\n",
    "normH = normH.fillna(0)\n",
    "normH.head()"
   ]
  },
  {
   "attachments": {},
   "cell_type": "markdown",
   "metadata": {},
   "source": [
    "## Transition Limits\n",
    "\n",
    "Inspect the graphs to identify prospective transition bounds"
   ]
  },
  {
   "cell_type": "code",
   "execution_count": 66,
   "metadata": {},
   "outputs": [
    {
     "data": {
      "image/png": "[encoded data removed]",
      "text/plain": [
       "<Figure size 600x300 with 2 Axes>"
      ]
     },
     "metadata": {},
     "output_type": "display_data"
    }
   ],
   "source": [
    "fig, [ax1, ax2] = plt.subplots(1,2, figsize=(6,3))\n",
    "\n",
    "ax1.plot(num_configs['beta'], num_configs['NRed'], 'o')\n",
    "ax1.set_title('2H')\n",
    "ax1.set_xlabel(r'$\\beta$')\n",
    "ax1.set_ylabel('# Configurations')\n",
    "ax1.set_yscale('log')\n",
    "ax1.set_xscale('log')\n",
    "#ax1.set_xlim(0,1)\n",
    "#ax1.set_xticks(np.arange(0,1.1,0.05), minor=True)\n",
    "ax1.grid(which='both', axis='x')\n",
    "ax1.grid(which='major', axis='y')\n",
    "\n",
    "ax2.plot(normH['beta'], normH['NRep'], 'o')\n",
    "ax2.set_title('3B')\n",
    "ax2.set_xlabel(r'$\\beta$')\n",
    "ax2.set_ylabel('Normalized H')\n",
    "ax2.set_xscale('log')\n",
    "#ax2.set_xlim(0,1)\n",
    "#ax2.set_xticks(np.arange(0,1.1,0.05), minor=True)\n",
    "ax2.grid(which='both', axis='x')\n",
    "ax2.grid(which='major', axis='y')\n",
    "\n",
    "fig.tight_layout()"
   ]
  },
  {
   "attachments": {},
   "cell_type": "markdown",
   "metadata": {},
   "source": [
    "***Transition Bounds***"
   ]
  },
  {
   "cell_type": "code",
   "execution_count": 56,
   "metadata": {},
   "outputs": [],
   "source": [
    "# 1st value is critic beta and 2nd is the change of behaviour \n",
    "# caused by network colapse and node limitation\n",
    "beta_lims = (0.55,1.1)"
   ]
  },
  {
   "cell_type": "code",
   "execution_count": 57,
   "metadata": {},
   "outputs": [],
   "source": [
    "pre_idx = (num_configs['beta'] < beta_lims[0]) \\\n",
    "    & (num_configs['beta'] > 0)\n",
    "pos_idx = (num_configs['beta'] >= beta_lims[0]) \\\n",
    "    & (num_configs['beta'] < beta_lims[1])\n",
    "\n",
    "p_nc_pre = np.polyfit(num_configs.loc[pre_idx,'beta'], \n",
    "                      np.log(num_configs.loc[pre_idx, 'NRed']), 1)\n",
    "p_nc_pos = np.polyfit(num_configs.loc[pos_idx,'beta'], \n",
    "                      np.log(num_configs.loc[pos_idx, 'NRed']), 1)\n",
    "p_nH_pre = np.polyfit(normH.loc[pre_idx,'beta'], \n",
    "                      normH.loc[pre_idx, 'NRep'], 1)\n",
    "p_nH_pos = np.polyfit(normH.loc[pos_idx,'beta'], \n",
    "                      normH.loc[pos_idx, 'NRep'], 1)"
   ]
  },
  {
   "cell_type": "code",
   "execution_count": 58,
   "metadata": {},
   "outputs": [],
   "source": [
    "pre_beta_lr = np.array([0.01, beta_lims[0]])\n",
    "pos_beta_lr = np.array([beta_lims[0], beta_lims[1]])\n",
    "\n",
    "pre_nc_lr = np.exp(pre_beta_lr * p_nc_pre[0] + p_nc_pre[1])\n",
    "pos_nc_lr = np.exp(pos_beta_lr * p_nc_pos[0] + p_nc_pos[1])\n",
    "\n",
    "pre_nH_lr = pre_beta_lr * p_nH_pre[0] + p_nH_pre[1]\n",
    "pos_nH_lr = pos_beta_lr * p_nH_pos[0] + p_nH_pos[1]\n",
    "\n",
    "nc_lr_intersect = (p_nc_pre[1] - p_nc_pos[1]) / (p_nc_pos[0] - p_nc_pre[0])\n",
    "nH_lr_intersect = (p_nH_pre[1] - p_nH_pos[1]) / (p_nH_pos[0] - p_nH_pre[0])\n"
   ]
  },
  {
   "cell_type": "code",
   "execution_count": 59,
   "metadata": {},
   "outputs": [
    {
     "data": {
      "image/png": "[encoded data removed]",
      "text/plain": [
       "<Figure size 600x300 with 2 Axes>"
      ]
     },
     "metadata": {},
     "output_type": "display_data"
    }
   ],
   "source": [
    "fig, [ax1, ax2] = plt.subplots(1,2, figsize=(6,3))\n",
    "\n",
    "ax1.plot(num_configs['beta'], num_configs['NRed'], 'o')\n",
    "ax1.plot(pre_beta_lr, pre_nc_lr, '-', color='black')\n",
    "ax1.plot(pos_beta_lr, pos_nc_lr, '-', color='black')\n",
    "ax1.annotate(r'$\\beta_{crit}$', xy=(nc_lr_intersect, 1), \n",
    "             xytext=(nc_lr_intersect, 150),\n",
    "             horizontalalignment='center',\n",
    "             color='red',\n",
    "             arrowprops=dict(color='red', arrowstyle='->', lw=1))\n",
    "ax1.set_title('2H')\n",
    "ax1.set_xlabel(r'$\\beta$')\n",
    "ax1.set_ylabel('# Configurations')\n",
    "ax1.set_yscale('log')\n",
    "ax1.set_xlim(0,1)\n",
    "ax1.set_xticks(np.arange(0,1.1,0.05), minor=True)\n",
    "ax1.grid(which='both', axis='x')\n",
    "ax1.grid(which='major', axis='y')\n",
    "\n",
    "ax2.plot(normH['beta'], normH['NRep'], 'o')\n",
    "ax2.plot(pre_beta_lr, pre_nH_lr, '-', color='black')\n",
    "ax2.plot(pos_beta_lr, pos_nH_lr, '-', color='black')\n",
    "ax2.annotate(r'$\\beta_{crit}$', xy=(nH_lr_intersect, 0), \n",
    "             xytext=(nH_lr_intersect, 0.2),\n",
    "             horizontalalignment='center',\n",
    "             color='red',\n",
    "             arrowprops=dict(color='red', arrowstyle='->', lw=1))\n",
    "ax2.set_title('3B')\n",
    "ax2.set_xlabel(r'$\\beta$')\n",
    "ax2.set_ylabel('Normalized H')\n",
    "ax2.set_xlim(0,1)\n",
    "ax2.set_ylim(0,0.25)\n",
    "ax2.set_xticks(np.arange(0,1.1,0.05), minor=True)\n",
    "ax2.grid(which='both', axis='x')\n",
    "ax2.grid(which='major', axis='y')\n",
    "\n",
    "fig.tight_layout()"
   ]
  },
  {
   "cell_type": "code",
   "execution_count": 60,
   "metadata": {},
   "outputs": [
    {
     "data": {
      "text/html": [
       "<div>\n",
       "<style scoped>\n",
       "    .dataframe tbody tr th:only-of-type {\n",
       "        vertical-align: middle;\n",
       "    }\n",
       "\n",
       "    .dataframe tbody tr th {\n",
       "        vertical-align: top;\n",
       "    }\n",
       "\n",
       "    .dataframe thead th {\n",
       "        text-align: right;\n",
       "    }\n",
       "</style>\n",
       "<table border=\"1\" class=\"dataframe\">\n",
       "  <thead>\n",
       "    <tr style=\"text-align: right;\">\n",
       "      <th></th>\n",
       "      <th>beta</th>\n",
       "      <th>NRep</th>\n",
       "    </tr>\n",
       "  </thead>\n",
       "  <tbody>\n",
       "    <tr>\n",
       "      <th>0</th>\n",
       "      <td>0.00</td>\n",
       "      <td>40.000000</td>\n",
       "    </tr>\n",
       "    <tr>\n",
       "      <th>1</th>\n",
       "      <td>0.05</td>\n",
       "      <td>39.074385</td>\n",
       "    </tr>\n",
       "    <tr>\n",
       "      <th>2</th>\n",
       "      <td>0.10</td>\n",
       "      <td>38.189722</td>\n",
       "    </tr>\n",
       "    <tr>\n",
       "      <th>3</th>\n",
       "      <td>0.15</td>\n",
       "      <td>37.378564</td>\n",
       "    </tr>\n",
       "    <tr>\n",
       "      <th>4</th>\n",
       "      <td>0.20</td>\n",
       "      <td>36.622116</td>\n",
       "    </tr>\n",
       "    <tr>\n",
       "      <th>5</th>\n",
       "      <td>0.25</td>\n",
       "      <td>35.820396</td>\n",
       "    </tr>\n",
       "    <tr>\n",
       "      <th>6</th>\n",
       "      <td>0.30</td>\n",
       "      <td>35.081224</td>\n",
       "    </tr>\n",
       "    <tr>\n",
       "      <th>7</th>\n",
       "      <td>0.35</td>\n",
       "      <td>34.382204</td>\n",
       "    </tr>\n",
       "    <tr>\n",
       "      <th>8</th>\n",
       "      <td>0.40</td>\n",
       "      <td>33.737173</td>\n",
       "    </tr>\n",
       "    <tr>\n",
       "      <th>9</th>\n",
       "      <td>0.45</td>\n",
       "      <td>33.040512</td>\n",
       "    </tr>\n",
       "    <tr>\n",
       "      <th>10</th>\n",
       "      <td>0.50</td>\n",
       "      <td>32.438832</td>\n",
       "    </tr>\n",
       "    <tr>\n",
       "      <th>11</th>\n",
       "      <td>0.55</td>\n",
       "      <td>31.698940</td>\n",
       "    </tr>\n",
       "    <tr>\n",
       "      <th>12</th>\n",
       "      <td>0.60</td>\n",
       "      <td>31.046191</td>\n",
       "    </tr>\n",
       "    <tr>\n",
       "      <th>13</th>\n",
       "      <td>0.65</td>\n",
       "      <td>30.434353</td>\n",
       "    </tr>\n",
       "    <tr>\n",
       "      <th>14</th>\n",
       "      <td>0.70</td>\n",
       "      <td>29.900860</td>\n",
       "    </tr>\n",
       "    <tr>\n",
       "      <th>15</th>\n",
       "      <td>0.75</td>\n",
       "      <td>29.415277</td>\n",
       "    </tr>\n",
       "    <tr>\n",
       "      <th>16</th>\n",
       "      <td>0.80</td>\n",
       "      <td>28.765007</td>\n",
       "    </tr>\n",
       "    <tr>\n",
       "      <th>17</th>\n",
       "      <td>0.85</td>\n",
       "      <td>28.264347</td>\n",
       "    </tr>\n",
       "    <tr>\n",
       "      <th>18</th>\n",
       "      <td>0.90</td>\n",
       "      <td>27.723095</td>\n",
       "    </tr>\n",
       "    <tr>\n",
       "      <th>19</th>\n",
       "      <td>0.95</td>\n",
       "      <td>27.275305</td>\n",
       "    </tr>\n",
       "  </tbody>\n",
       "</table>\n",
       "</div>"
      ],
      "text/plain": [
       "    beta       NRep\n",
       "0   0.00  40.000000\n",
       "1   0.05  39.074385\n",
       "2   0.10  38.189722\n",
       "3   0.15  37.378564\n",
       "4   0.20  36.622116\n",
       "5   0.25  35.820396\n",
       "6   0.30  35.081224\n",
       "7   0.35  34.382204\n",
       "8   0.40  33.737173\n",
       "9   0.45  33.040512\n",
       "10  0.50  32.438832\n",
       "11  0.55  31.698940\n",
       "12  0.60  31.046191\n",
       "13  0.65  30.434353\n",
       "14  0.70  29.900860\n",
       "15  0.75  29.415277\n",
       "16  0.80  28.765007\n",
       "17  0.85  28.264347\n",
       "18  0.90  27.723095\n",
       "19  0.95  27.275305"
      ]
     },
     "execution_count": 60,
     "metadata": {},
     "output_type": "execute_result"
    }
   ],
   "source": [
    "tmp_data = pd.concat(nt_list, axis=0)\n",
    "tmp_data = tmp_data.sort_values(by=['beta','rep','NRed'])\n",
    "tmp_data = tmp_data.groupby(['beta','rep','t'])['NRep'].sum().reset_index()\n",
    "tmp_data = tmp_data.groupby(['beta'])['NRep'].mean().reset_index()\n",
    "tmp_data.head(20)"
   ]
  },
  {
   "cell_type": "code",
   "execution_count": 63,
   "metadata": {},
   "outputs": [
    {
     "data": {
      "text/plain": [
       "<Figure size 600x400 with 0 Axes>"
      ]
     },
     "metadata": {},
     "output_type": "display_data"
    },
    {
     "data": {
      "image/png": "[encoded data removed]",
      "text/plain": [
       "<Figure size 640x480 with 1 Axes>"
      ]
     },
     "metadata": {},
     "output_type": "display_data"
    }
   ],
   "source": [
    "plt.figure(figsize=(6,4))\n",
    "tmp_data.plot(x='beta',y='NRep', style='-o',legend=False)\n",
    "plt.xlabel(r'$\\beta$')\n",
    "plt.ylabel('Número Medio Redes')\n",
    "plt.xscale('log')\n",
    "plt.title('Union Simplificada')\n",
    "plt.xticks(np.arange(01.1,0.05))\n",
    "plt.grid(which='both')\n"
   ]
  },
  {
   "cell_type": "code",
   "execution_count": null,
   "metadata": {},
   "outputs": [],
   "source": []
  }
 ],
 "metadata": {
  "kernelspec": {
   "display_name": "Python 3",
   "language": "python",
   "name": "python3"
  },
  "language_info": {
   "codemirror_mode": {
    "name": "ipython",
    "version": 3
   },
   "file_extension": ".py",
   "mimetype": "text/x-python",
   "name": "python",
   "nbconvert_exporter": "python",
   "pygments_lexer": "ipython3",
   "version": "3.8.10"
  },
  "orig_nbformat": 4
 },
 "nbformat": 4,
 "nbformat_minor": 2
}
